{
 "cells": [
  {
   "cell_type": "markdown",
   "metadata": {},
   "source": [
    "## Первая генеративная модель\n",
    "\n",
    "Использую датасет CIFAR-10"
   ]
  },
  {
   "cell_type": "markdown",
   "metadata": {},
   "source": [
    "##### Импорт модулей"
   ]
  },
  {
   "cell_type": "code",
   "execution_count": 1,
   "metadata": {},
   "outputs": [],
   "source": [
    "import numpy as np\n",
    "from keras.utils import to_categorical\n",
    "from keras.datasets import cifar10"
   ]
  },
  {
   "cell_type": "markdown",
   "metadata": {},
   "source": [
    "##### Загрузка датасета\n",
    "\n",
    "Данные x_train представлены в виде вектора (50000, 32, 32, 3)\n",
    "\n",
    "Данные y_train в виде целочисленной метки от 0 до 9, их преобразуем в вектор длины NUM_CLASSES, где NUM_CLASSES - количество категорий. В получившимся векторе для изображения категории i нулю равны все элементы кроме элемента с индексом i"
   ]
  },
  {
   "cell_type": "code",
   "execution_count": 2,
   "metadata": {},
   "outputs": [
    {
     "name": "stdout",
     "output_type": "stream",
     "text": [
      "Downloading data from https://www.cs.toronto.edu/~kriz/cifar-10-python.tar.gz\n",
      "170498071/170498071 [==============================] - 95s 1us/step\n"
     ]
    }
   ],
   "source": [
    "(x_train, y_train), (x_test, y_test) = cifar10.load_data()\n",
    "NUM_CLASSES = 10 # 10 категорий изображений в cifar-10\n",
    "x_train = x_train.astype('float32')/255.0\n",
    "x_test = x_test.astype('float32')/255.0\n",
    "y_train = to_categorical(y_train, NUM_CLASSES)\n",
    "y_test = to_categorical(y_test, NUM_CLASSES)"
   ]
  },
  {
   "cell_type": "markdown",
   "metadata": {},
   "source": [
    "##### Конструирование модели"
   ]
  },
  {
   "cell_type": "code",
   "execution_count": 4,
   "metadata": {},
   "outputs": [],
   "source": [
    "from keras.layers import Input, Flatten, Dense\n",
    "from keras.models import Model"
   ]
  },
  {
   "cell_type": "code",
   "execution_count": 5,
   "metadata": {},
   "outputs": [],
   "source": [
    "input_layer = Input(shape=(32, 32, 3)) # форма слоя - форма элемента из датасета\n",
    "x = Flatten()(input_layer) # преобразуем данные в вектор с помощью слоя Flatten. В результате получается вектор с длиной 3072 (= 32 × 32 × 3). Следующий слой потребует данные в виде вектора\n",
    "x = Dense(units=200, activation='relu')(x) # Полносвязный слой, с функцией активации\n",
    "x = Dense(units=150, activation='relu')(x) # Полносвязный слой, с функцией активации\n",
    "output_layer = Dense(units=10, activation='softmax')(x) # Выходной слой с функцией softmax\n",
    "model = Model(input_layer, output_layer) # Модель, определяемая входными и выходными слоями, в данном случае 1 входной и 1 выходной"
   ]
  },
  {
   "cell_type": "markdown",
   "metadata": {},
   "source": [
    "##### Информация о сети"
   ]
  },
  {
   "cell_type": "code",
   "execution_count": 6,
   "metadata": {},
   "outputs": [
    {
     "name": "stdout",
     "output_type": "stream",
     "text": [
      "Model: \"model\"\n",
      "_________________________________________________________________\n",
      " Layer (type)                Output Shape              Param #   \n",
      "=================================================================\n",
      " input_1 (InputLayer)        [(None, 32, 32, 3)]       0         \n",
      "                                                                 \n",
      " flatten (Flatten)           (None, 3072)              0         \n",
      "                                                                 \n",
      " dense (Dense)               (None, 200)               614600    \n",
      "                                                                 \n",
      " dense_1 (Dense)             (None, 150)               30150     \n",
      "                                                                 \n",
      " dense_2 (Dense)             (None, 10)                1510      \n",
      "                                                                 \n",
      "=================================================================\n",
      "Total params: 646260 (2.47 MB)\n",
      "Trainable params: 646260 (2.47 MB)\n",
      "Non-trainable params: 0 (0.00 Byte)\n",
      "_________________________________________________________________\n"
     ]
    }
   ],
   "source": [
    "model.summary()"
   ]
  },
  {
   "cell_type": "markdown",
   "metadata": {},
   "source": [
    "##### Компиляция модели"
   ]
  },
  {
   "cell_type": "code",
   "execution_count": 7,
   "metadata": {},
   "outputs": [],
   "source": [
    "from keras.optimizers import Adam"
   ]
  },
  {
   "cell_type": "code",
   "execution_count": 8,
   "metadata": {},
   "outputs": [],
   "source": [
    "opt = Adam(learning_rate=0.0005)"
   ]
  },
  {
   "cell_type": "code",
   "execution_count": 9,
   "metadata": {},
   "outputs": [],
   "source": [
    "model.compile(loss='categorical_crossentropy', optimizer=opt, metrics='accuracy')"
   ]
  },
  {
   "cell_type": "markdown",
   "metadata": {},
   "source": [
    "##### Обучение модели"
   ]
  },
  {
   "cell_type": "code",
   "execution_count": 10,
   "metadata": {},
   "outputs": [
    {
     "name": "stdout",
     "output_type": "stream",
     "text": [
      "Epoch 1/10\n",
      "1563/1563 [==============================] - 12s 7ms/step - loss: 1.8496 - accuracy: 0.3341\n",
      "Epoch 2/10\n",
      "1563/1563 [==============================] - 12s 7ms/step - loss: 1.6696 - accuracy: 0.4045\n",
      "Epoch 3/10\n",
      "1563/1563 [==============================] - 12s 7ms/step - loss: 1.5947 - accuracy: 0.4324\n",
      "Epoch 4/10\n",
      "1563/1563 [==============================] - 12s 7ms/step - loss: 1.5376 - accuracy: 0.4499\n",
      "Epoch 5/10\n",
      "1563/1563 [==============================] - 12s 7ms/step - loss: 1.4978 - accuracy: 0.4635\n",
      "Epoch 6/10\n",
      "1563/1563 [==============================] - 12s 8ms/step - loss: 1.4670 - accuracy: 0.4766\n",
      "Epoch 7/10\n",
      "1563/1563 [==============================] - 12s 8ms/step - loss: 1.4387 - accuracy: 0.4889\n",
      "Epoch 8/10\n",
      "1563/1563 [==============================] - 12s 7ms/step - loss: 1.4104 - accuracy: 0.4974\n",
      "Epoch 9/10\n",
      "1563/1563 [==============================] - 12s 7ms/step - loss: 1.3924 - accuracy: 0.5048\n",
      "Epoch 10/10\n",
      "1563/1563 [==============================] - 11s 7ms/step - loss: 1.3727 - accuracy: 0.5090\n"
     ]
    },
    {
     "data": {
      "text/plain": [
       "<keras.src.callbacks.History at 0x2b49c6c0310>"
      ]
     },
     "execution_count": 10,
     "metadata": {},
     "output_type": "execute_result"
    }
   ],
   "source": [
    "model.fit(x_train, y_train, batch_size=32, epochs=10, shuffle=True)"
   ]
  },
  {
   "cell_type": "markdown",
   "metadata": {},
   "source": [
    "##### Тестирование модели на данных, не использовавшихся для обучения сети"
   ]
  },
  {
   "cell_type": "code",
   "execution_count": 11,
   "metadata": {},
   "outputs": [
    {
     "name": "stdout",
     "output_type": "stream",
     "text": [
      "313/313 [==============================] - 1s 2ms/step - loss: 1.4464 - accuracy: 0.4851\n"
     ]
    },
    {
     "data": {
      "text/plain": [
       "[1.4464119672775269, 0.48510000109672546]"
      ]
     },
     "execution_count": 11,
     "metadata": {},
     "output_type": "execute_result"
    }
   ],
   "source": [
    "model.evaluate(x_test, y_test)"
   ]
  }
 ],
 "metadata": {
  "kernelspec": {
   "display_name": "Python 3",
   "language": "python",
   "name": "python3"
  },
  "language_info": {
   "codemirror_mode": {
    "name": "ipython",
    "version": 3
   },
   "file_extension": ".py",
   "mimetype": "text/x-python",
   "name": "python",
   "nbconvert_exporter": "python",
   "pygments_lexer": "ipython3",
   "version": "3.8.10"
  }
 },
 "nbformat": 4,
 "nbformat_minor": 2
}
